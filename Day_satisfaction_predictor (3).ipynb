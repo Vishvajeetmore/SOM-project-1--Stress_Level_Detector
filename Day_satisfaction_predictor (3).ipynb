{
 "cells": [
  {
   "cell_type": "markdown",
   "id": "761c0bf0-485c-4cb7-91b0-394d7977ee6c",
   "metadata": {},
   "source": [
    "### Importing Important Libraries"
   ]
  },
  {
   "cell_type": "code",
   "execution_count": 238,
   "id": "8d6882dc-02fc-4635-844d-d15b13f129bb",
   "metadata": {},
   "outputs": [
    {
     "name": "stdout",
     "output_type": "stream",
     "text": [
      "Requirement already satisfied: xgboost in c:\\users\\vishvajeet\\anaconda3\\lib\\site-packages (3.0.2)\n",
      "Requirement already satisfied: numpy in c:\\users\\vishvajeet\\anaconda3\\lib\\site-packages (from xgboost) (1.26.4)\n",
      "Requirement already satisfied: scipy in c:\\users\\vishvajeet\\anaconda3\\lib\\site-packages (from xgboost) (1.13.1)\n"
     ]
    }
   ],
   "source": [
    "!pip install xgboost"
   ]
  },
  {
   "cell_type": "code",
   "execution_count": 239,
   "id": "eb498010-88d6-4972-a9c0-e82b63bbf3b9",
   "metadata": {},
   "outputs": [],
   "source": [
    "import pandas as pd\n",
    "import numpy as np\n",
    "import matplotlib.pyplot as plt\n",
    "import seaborn as sns\n",
    "from sklearn.model_selection import train_test_split,cross_val_score\n",
    "from sklearn.tree import DecisionTreeClassifier\n",
    "from sklearn.ensemble import RandomForestClassifier\n",
    "from sklearn.metrics import classification_report,confusion_matrix\n",
    "from sklearn.model_selection import GridSearchCV\n",
    "from sklearn.model_selection import RandomizedSearchCV,cross_val_score\n",
    "\n",
    "from sklearn.linear_model import LogisticRegression"
   ]
  },
  {
   "cell_type": "markdown",
   "id": "3cfd23a9-63a7-4e70-84f2-8c9f26f62265",
   "metadata": {},
   "source": [
    "### Reading and analysing the Data"
   ]
  },
  {
   "cell_type": "code",
   "execution_count": 240,
   "id": "274f5dcf-604f-40a4-ac2b-58a97bad8e9a",
   "metadata": {},
   "outputs": [],
   "source": [
    "df=pd.read_csv(\"C:\\\\Users\\\\VISHVAJEET\\\\Documents\\\\student_lifestyle_dataset2.csv\")\n"
   ]
  },
  {
   "cell_type": "code",
   "execution_count": 241,
   "id": "8c03d0cc-283e-4c14-8a4a-bd6e73fc9e81",
   "metadata": {},
   "outputs": [
    {
     "data": {
      "text/plain": [
       "(2000, 8)"
      ]
     },
     "execution_count": 241,
     "metadata": {},
     "output_type": "execute_result"
    }
   ],
   "source": [
    "df.shape"
   ]
  },
  {
   "cell_type": "code",
   "execution_count": 242,
   "id": "277a1bda-41c3-461b-831f-37bacf5222b7",
   "metadata": {},
   "outputs": [
    {
     "data": {
      "text/html": [
       "<div>\n",
       "<style scoped>\n",
       "    .dataframe tbody tr th:only-of-type {\n",
       "        vertical-align: middle;\n",
       "    }\n",
       "\n",
       "    .dataframe tbody tr th {\n",
       "        vertical-align: top;\n",
       "    }\n",
       "\n",
       "    .dataframe thead th {\n",
       "        text-align: right;\n",
       "    }\n",
       "</style>\n",
       "<table border=\"1\" class=\"dataframe\">\n",
       "  <thead>\n",
       "    <tr style=\"text-align: right;\">\n",
       "      <th></th>\n",
       "      <th>Student_ID</th>\n",
       "      <th>Study_Hours</th>\n",
       "      <th>Hobbies_Hours</th>\n",
       "      <th>Sleep_Hours</th>\n",
       "      <th>Social_Interaction</th>\n",
       "      <th>Physical_Activity_Hours</th>\n",
       "      <th>CGPA</th>\n",
       "      <th>Stress_Level</th>\n",
       "    </tr>\n",
       "  </thead>\n",
       "  <tbody>\n",
       "    <tr>\n",
       "      <th>count</th>\n",
       "      <td>2000.000000</td>\n",
       "      <td>2000.000000</td>\n",
       "      <td>2000.000000</td>\n",
       "      <td>2000.000000</td>\n",
       "      <td>2000.000000</td>\n",
       "      <td>2000.00000</td>\n",
       "      <td>2000.000000</td>\n",
       "      <td>2000</td>\n",
       "    </tr>\n",
       "    <tr>\n",
       "      <th>unique</th>\n",
       "      <td>NaN</td>\n",
       "      <td>NaN</td>\n",
       "      <td>NaN</td>\n",
       "      <td>NaN</td>\n",
       "      <td>NaN</td>\n",
       "      <td>NaN</td>\n",
       "      <td>NaN</td>\n",
       "      <td>3</td>\n",
       "    </tr>\n",
       "    <tr>\n",
       "      <th>top</th>\n",
       "      <td>NaN</td>\n",
       "      <td>NaN</td>\n",
       "      <td>NaN</td>\n",
       "      <td>NaN</td>\n",
       "      <td>NaN</td>\n",
       "      <td>NaN</td>\n",
       "      <td>NaN</td>\n",
       "      <td>High</td>\n",
       "    </tr>\n",
       "    <tr>\n",
       "      <th>freq</th>\n",
       "      <td>NaN</td>\n",
       "      <td>NaN</td>\n",
       "      <td>NaN</td>\n",
       "      <td>NaN</td>\n",
       "      <td>NaN</td>\n",
       "      <td>NaN</td>\n",
       "      <td>NaN</td>\n",
       "      <td>1029</td>\n",
       "    </tr>\n",
       "    <tr>\n",
       "      <th>mean</th>\n",
       "      <td>1000.500000</td>\n",
       "      <td>7.475800</td>\n",
       "      <td>1.990100</td>\n",
       "      <td>7.501250</td>\n",
       "      <td>2.704550</td>\n",
       "      <td>4.32830</td>\n",
       "      <td>3.115960</td>\n",
       "      <td>NaN</td>\n",
       "    </tr>\n",
       "    <tr>\n",
       "      <th>std</th>\n",
       "      <td>577.494589</td>\n",
       "      <td>1.423888</td>\n",
       "      <td>1.155855</td>\n",
       "      <td>1.460949</td>\n",
       "      <td>1.688514</td>\n",
       "      <td>2.51411</td>\n",
       "      <td>0.298674</td>\n",
       "      <td>NaN</td>\n",
       "    </tr>\n",
       "    <tr>\n",
       "      <th>min</th>\n",
       "      <td>1.000000</td>\n",
       "      <td>5.000000</td>\n",
       "      <td>0.000000</td>\n",
       "      <td>5.000000</td>\n",
       "      <td>0.000000</td>\n",
       "      <td>0.00000</td>\n",
       "      <td>2.240000</td>\n",
       "      <td>NaN</td>\n",
       "    </tr>\n",
       "    <tr>\n",
       "      <th>25%</th>\n",
       "      <td>500.750000</td>\n",
       "      <td>6.300000</td>\n",
       "      <td>1.000000</td>\n",
       "      <td>6.200000</td>\n",
       "      <td>1.200000</td>\n",
       "      <td>2.40000</td>\n",
       "      <td>2.900000</td>\n",
       "      <td>NaN</td>\n",
       "    </tr>\n",
       "    <tr>\n",
       "      <th>50%</th>\n",
       "      <td>1000.500000</td>\n",
       "      <td>7.400000</td>\n",
       "      <td>2.000000</td>\n",
       "      <td>7.500000</td>\n",
       "      <td>2.600000</td>\n",
       "      <td>4.10000</td>\n",
       "      <td>3.110000</td>\n",
       "      <td>NaN</td>\n",
       "    </tr>\n",
       "    <tr>\n",
       "      <th>75%</th>\n",
       "      <td>1500.250000</td>\n",
       "      <td>8.700000</td>\n",
       "      <td>3.000000</td>\n",
       "      <td>8.800000</td>\n",
       "      <td>4.100000</td>\n",
       "      <td>6.10000</td>\n",
       "      <td>3.330000</td>\n",
       "      <td>NaN</td>\n",
       "    </tr>\n",
       "    <tr>\n",
       "      <th>max</th>\n",
       "      <td>2000.000000</td>\n",
       "      <td>10.000000</td>\n",
       "      <td>4.000000</td>\n",
       "      <td>10.000000</td>\n",
       "      <td>6.000000</td>\n",
       "      <td>13.00000</td>\n",
       "      <td>4.000000</td>\n",
       "      <td>NaN</td>\n",
       "    </tr>\n",
       "  </tbody>\n",
       "</table>\n",
       "</div>"
      ],
      "text/plain": [
       "         Student_ID  Study_Hours  Hobbies_Hours  Sleep_Hours  \\\n",
       "count   2000.000000  2000.000000    2000.000000  2000.000000   \n",
       "unique          NaN          NaN            NaN          NaN   \n",
       "top             NaN          NaN            NaN          NaN   \n",
       "freq            NaN          NaN            NaN          NaN   \n",
       "mean    1000.500000     7.475800       1.990100     7.501250   \n",
       "std      577.494589     1.423888       1.155855     1.460949   \n",
       "min        1.000000     5.000000       0.000000     5.000000   \n",
       "25%      500.750000     6.300000       1.000000     6.200000   \n",
       "50%     1000.500000     7.400000       2.000000     7.500000   \n",
       "75%     1500.250000     8.700000       3.000000     8.800000   \n",
       "max     2000.000000    10.000000       4.000000    10.000000   \n",
       "\n",
       "        Social_Interaction  Physical_Activity_Hours         CGPA Stress_Level  \n",
       "count          2000.000000               2000.00000  2000.000000         2000  \n",
       "unique                 NaN                      NaN          NaN            3  \n",
       "top                    NaN                      NaN          NaN         High  \n",
       "freq                   NaN                      NaN          NaN         1029  \n",
       "mean              2.704550                  4.32830     3.115960          NaN  \n",
       "std               1.688514                  2.51411     0.298674          NaN  \n",
       "min               0.000000                  0.00000     2.240000          NaN  \n",
       "25%               1.200000                  2.40000     2.900000          NaN  \n",
       "50%               2.600000                  4.10000     3.110000          NaN  \n",
       "75%               4.100000                  6.10000     3.330000          NaN  \n",
       "max               6.000000                 13.00000     4.000000          NaN  "
      ]
     },
     "execution_count": 242,
     "metadata": {},
     "output_type": "execute_result"
    }
   ],
   "source": [
    "df.describe(include='all')"
   ]
  },
  {
   "cell_type": "code",
   "execution_count": 243,
   "id": "83d875ad-8a34-442a-9ead-be29fa9d592e",
   "metadata": {},
   "outputs": [
    {
     "data": {
      "text/plain": [
       "Student_ID                 0\n",
       "Study_Hours                0\n",
       "Hobbies_Hours              0\n",
       "Sleep_Hours                0\n",
       "Social_Interaction         0\n",
       "Physical_Activity_Hours    0\n",
       "CGPA                       0\n",
       "Stress_Level               0\n",
       "dtype: int64"
      ]
     },
     "execution_count": 243,
     "metadata": {},
     "output_type": "execute_result"
    }
   ],
   "source": [
    "df.isnull().sum()"
   ]
  },
  {
   "cell_type": "code",
   "execution_count": 244,
   "id": "1cc423e6-1f05-44b6-8747-8d823654cf85",
   "metadata": {},
   "outputs": [
    {
     "data": {
      "text/plain": [
       "Student_ID                   int64\n",
       "Study_Hours                float64\n",
       "Hobbies_Hours              float64\n",
       "Sleep_Hours                float64\n",
       "Social_Interaction         float64\n",
       "Physical_Activity_Hours    float64\n",
       "CGPA                       float64\n",
       "Stress_Level                object\n",
       "dtype: object"
      ]
     },
     "execution_count": 244,
     "metadata": {},
     "output_type": "execute_result"
    }
   ],
   "source": [
    "df.dtypes"
   ]
  },
  {
   "cell_type": "code",
   "execution_count": 245,
   "id": "95e3642b-7314-4302-946b-9401137e4e15",
   "metadata": {},
   "outputs": [
    {
     "data": {
      "text/html": [
       "<div>\n",
       "<style scoped>\n",
       "    .dataframe tbody tr th:only-of-type {\n",
       "        vertical-align: middle;\n",
       "    }\n",
       "\n",
       "    .dataframe tbody tr th {\n",
       "        vertical-align: top;\n",
       "    }\n",
       "\n",
       "    .dataframe thead th {\n",
       "        text-align: right;\n",
       "    }\n",
       "</style>\n",
       "<table border=\"1\" class=\"dataframe\">\n",
       "  <thead>\n",
       "    <tr style=\"text-align: right;\">\n",
       "      <th></th>\n",
       "      <th>Study_Hours</th>\n",
       "      <th>Hobbies_Hours</th>\n",
       "      <th>Sleep_Hours</th>\n",
       "      <th>Social_Interaction</th>\n",
       "      <th>Physical_Activity_Hours</th>\n",
       "      <th>CGPA</th>\n",
       "      <th>Stress_Level</th>\n",
       "    </tr>\n",
       "  </thead>\n",
       "  <tbody>\n",
       "    <tr>\n",
       "      <th>0</th>\n",
       "      <td>6.9</td>\n",
       "      <td>3.8</td>\n",
       "      <td>8.7</td>\n",
       "      <td>2.8</td>\n",
       "      <td>1.8</td>\n",
       "      <td>2.99</td>\n",
       "      <td>Moderate</td>\n",
       "    </tr>\n",
       "    <tr>\n",
       "      <th>1</th>\n",
       "      <td>5.3</td>\n",
       "      <td>3.5</td>\n",
       "      <td>8.0</td>\n",
       "      <td>4.2</td>\n",
       "      <td>3.0</td>\n",
       "      <td>2.75</td>\n",
       "      <td>Low</td>\n",
       "    </tr>\n",
       "    <tr>\n",
       "      <th>2</th>\n",
       "      <td>5.1</td>\n",
       "      <td>3.9</td>\n",
       "      <td>9.2</td>\n",
       "      <td>1.2</td>\n",
       "      <td>4.6</td>\n",
       "      <td>2.67</td>\n",
       "      <td>Low</td>\n",
       "    </tr>\n",
       "    <tr>\n",
       "      <th>3</th>\n",
       "      <td>6.5</td>\n",
       "      <td>2.1</td>\n",
       "      <td>7.2</td>\n",
       "      <td>1.7</td>\n",
       "      <td>6.5</td>\n",
       "      <td>2.88</td>\n",
       "      <td>Moderate</td>\n",
       "    </tr>\n",
       "    <tr>\n",
       "      <th>4</th>\n",
       "      <td>8.1</td>\n",
       "      <td>0.6</td>\n",
       "      <td>6.5</td>\n",
       "      <td>2.2</td>\n",
       "      <td>6.6</td>\n",
       "      <td>3.51</td>\n",
       "      <td>High</td>\n",
       "    </tr>\n",
       "  </tbody>\n",
       "</table>\n",
       "</div>"
      ],
      "text/plain": [
       "   Study_Hours  Hobbies_Hours  Sleep_Hours  Social_Interaction  \\\n",
       "0          6.9            3.8          8.7                 2.8   \n",
       "1          5.3            3.5          8.0                 4.2   \n",
       "2          5.1            3.9          9.2                 1.2   \n",
       "3          6.5            2.1          7.2                 1.7   \n",
       "4          8.1            0.6          6.5                 2.2   \n",
       "\n",
       "   Physical_Activity_Hours  CGPA Stress_Level  \n",
       "0                      1.8  2.99     Moderate  \n",
       "1                      3.0  2.75          Low  \n",
       "2                      4.6  2.67          Low  \n",
       "3                      6.5  2.88     Moderate  \n",
       "4                      6.6  3.51         High  "
      ]
     },
     "execution_count": 245,
     "metadata": {},
     "output_type": "execute_result"
    }
   ],
   "source": [
    "df.drop(\"Student_ID\",axis=1,inplace=True)\n",
    "df.head()"
   ]
  },
  {
   "cell_type": "markdown",
   "id": "4a3e37a1-e8ac-4a7c-88ed-19eadb3a6d8a",
   "metadata": {},
   "source": [
    "### Converting Categorical column to numerical using Label Encoder"
   ]
  },
  {
   "cell_type": "code",
   "execution_count": 246,
   "id": "11134a94-c64b-4e6c-9a16-8f049f95ead7",
   "metadata": {},
   "outputs": [],
   "source": [
    "from sklearn.preprocessing import LabelEncoder\n",
    "\n",
    "\n",
    "l = LabelEncoder()\n",
    "df['Stress_Level_label'] = l.fit_transform(df['Stress_Level'])\n",
    "\n"
   ]
  },
  {
   "cell_type": "code",
   "execution_count": 247,
   "id": "b6c8f251-808b-4244-bdd6-d26ce02247b0",
   "metadata": {},
   "outputs": [
    {
     "name": "stdout",
     "output_type": "stream",
     "text": [
      "Stress_Level\n",
      "High        1029\n",
      "Moderate     674\n",
      "Low          297\n",
      "Name: count, dtype: int64\n",
      "Stress_Level\n",
      "High        0.5145\n",
      "Moderate    0.3370\n",
      "Low         0.1485\n",
      "Name: proportion, dtype: float64\n"
     ]
    }
   ],
   "source": [
    "#Checking distribution or how much balance data is\n",
    "print(df['Stress_Level'].value_counts())\n",
    "print(df['Stress_Level'].value_counts(normalize=True))  "
   ]
  },
  {
   "cell_type": "markdown",
   "id": "0198d262-8ec3-4aee-8de6-9cc489d3da29",
   "metadata": {},
   "source": [
    "### Training and Testing the data using Logistic Regression"
   ]
  },
  {
   "cell_type": "code",
   "execution_count": 248,
   "id": "03c9e40f-368b-473a-ac27-831073d9597e",
   "metadata": {},
   "outputs": [],
   "source": [
    "X=df.drop([\"Stress_Level\",\"Stress_Level_label\"],axis=1)\n",
    "Y=df[\"Stress_Level_label\"]\n",
    "X_train,X_test,y_train,y_test=train_test_split(X,Y,test_size=0.15,random_state=2022)"
   ]
  },
  {
   "cell_type": "markdown",
   "id": "0992588b-b2f0-473c-8e23-da96ade3a906",
   "metadata": {},
   "source": [
    "## Scaling Data"
   ]
  },
  {
   "cell_type": "code",
   "execution_count": 249,
   "id": "a144378c-3021-4940-ae53-703230d041c9",
   "metadata": {},
   "outputs": [],
   "source": [
    "from sklearn.preprocessing import StandardScaler\n",
    "scaler = StandardScaler()\n",
    "X_train_scaled = scaler.fit_transform(X_train)\n",
    "X_test_scaled = scaler.transform(X_test)"
   ]
  },
  {
   "cell_type": "markdown",
   "id": "f46f448a-78e9-4c7d-8048-a5dbf112aa42",
   "metadata": {},
   "source": [
    "### Logistic Regression"
   ]
  },
  {
   "cell_type": "code",
   "execution_count": 250,
   "id": "7abc224a-59c0-4c8b-a633-f1f6fc15d89f",
   "metadata": {},
   "outputs": [
    {
     "name": "stdout",
     "output_type": "stream",
     "text": [
      "              precision    recall  f1-score   support\n",
      "\n",
      "           0       0.89      0.84      0.86       150\n",
      "           1       0.78      1.00      0.88        47\n",
      "           2       0.83      0.79      0.81       103\n",
      "\n",
      "    accuracy                           0.85       300\n",
      "   macro avg       0.83      0.88      0.85       300\n",
      "weighted avg       0.85      0.85      0.85       300\n",
      "\n",
      "[[126   7  17]\n",
      " [  0  47   0]\n",
      " [ 16   6  81]]\n"
     ]
    }
   ],
   "source": [
    "from sklearn.linear_model import LogisticRegression\n",
    "\n",
    "model = LogisticRegression(class_weight='balanced')\n",
    "model.fit(X_train_scaled, y_train)\n",
    "log_pred = model.predict(X_test_scaled)\n",
    "print(classification_report(y_test,log_pred))\n",
    "cm=confusion_matrix(y_test,log_pred)\n",
    "print(cm)"
   ]
  },
  {
   "cell_type": "code",
   "execution_count": 251,
   "id": "115334ee-4e12-4b2e-a1dd-d54a8ef4691e",
   "metadata": {},
   "outputs": [
    {
     "name": "stdout",
     "output_type": "stream",
     "text": [
      "84.66666666666667 %\n"
     ]
    }
   ],
   "source": [
    "print(model.score(X_test_scaled, y_test)*100,'%')"
   ]
  },
  {
   "cell_type": "markdown",
   "id": "da3dbaf3-86e3-4360-bdd3-66e048149278",
   "metadata": {},
   "source": [
    "## Random Forest"
   ]
  },
  {
   "cell_type": "code",
   "execution_count": 252,
   "id": "8c5dca1c-e78f-41db-90b1-0290ddc6d880",
   "metadata": {},
   "outputs": [
    {
     "name": "stdout",
     "output_type": "stream",
     "text": [
      "100.0 %\n"
     ]
    }
   ],
   "source": [
    "rf = RandomForestClassifier(class_weight='balanced',n_estimators=100)\n",
    "rf.fit(X_train_scaled, y_train)\n",
    "print(rf.score(X_test_scaled, y_test)*100,'%')\n",
    "rf_pred=rf.predict(X_test_scaled)"
   ]
  },
  {
   "cell_type": "code",
   "execution_count": 253,
   "id": "b7f91a54-858e-4441-9d45-994a75e2286e",
   "metadata": {},
   "outputs": [
    {
     "name": "stdout",
     "output_type": "stream",
     "text": [
      "              precision    recall  f1-score   support\n",
      "\n",
      "           0       1.00      1.00      1.00       150\n",
      "           1       1.00      1.00      1.00        47\n",
      "           2       1.00      1.00      1.00       103\n",
      "\n",
      "    accuracy                           1.00       300\n",
      "   macro avg       1.00      1.00      1.00       300\n",
      "weighted avg       1.00      1.00      1.00       300\n",
      "\n"
     ]
    }
   ],
   "source": [
    "print(classification_report(y_test,rf_pred))  #It is overfitting"
   ]
  },
  {
   "cell_type": "code",
   "execution_count": 254,
   "id": "538cd60d-3d7d-42c4-ab93-5a7f83e4063b",
   "metadata": {},
   "outputs": [
    {
     "name": "stdout",
     "output_type": "stream",
     "text": [
      "[[150   0   0]\n",
      " [  0  47   0]\n",
      " [  0   0 103]]\n"
     ]
    }
   ],
   "source": [
    "cm=confusion_matrix(y_test,rf_pred)\n",
    "print(cm)"
   ]
  },
  {
   "cell_type": "markdown",
   "id": "954c64c6-deed-402b-800e-1ec8e358e0b7",
   "metadata": {},
   "source": [
    "## XGBOOST"
   ]
  },
  {
   "cell_type": "code",
   "execution_count": 255,
   "id": "4bce629b-277d-42d1-9c0e-bb1d2b7db24d",
   "metadata": {},
   "outputs": [
    {
     "name": "stderr",
     "output_type": "stream",
     "text": [
      "C:\\Users\\VISHVAJEET\\anaconda3\\Lib\\site-packages\\xgboost\\training.py:183: UserWarning: [01:23:30] WARNING: C:\\actions-runner\\_work\\xgboost\\xgboost\\src\\learner.cc:738: \n",
      "Parameters: { \"class_weight\" } are not used.\n",
      "\n",
      "  bst.update(dtrain, iteration=i, fobj=obj)\n"
     ]
    },
    {
     "name": "stdout",
     "output_type": "stream",
     "text": [
      "XGBoost Accuracy: 100.0 %\n",
      "              precision    recall  f1-score   support\n",
      "\n",
      "           0       1.00      1.00      1.00       150\n",
      "           1       1.00      1.00      1.00        47\n",
      "           2       1.00      1.00      1.00       103\n",
      "\n",
      "    accuracy                           1.00       300\n",
      "   macro avg       1.00      1.00      1.00       300\n",
      "weighted avg       1.00      1.00      1.00       300\n",
      "\n",
      "[[150   0   0]\n",
      " [  0  47   0]\n",
      " [  0   0 103]]\n"
     ]
    }
   ],
   "source": [
    "from xgboost import XGBClassifier\n",
    "from sklearn.metrics import accuracy_score\n",
    "xgb = XGBClassifier(class_weight='balanced')\n",
    "xgb.fit(X_train_scaled, y_train)\n",
    "xgb_pred = xgb.predict(X_test_scaled)\n",
    "print(\"XGBoost Accuracy:\", accuracy_score(y_test, xgb_pred)*100,'%')#It is overfitting\n",
    "print(classification_report(y_test,xgb_pred))\n",
    "cm=confusion_matrix(y_test,xgb_pred)\n",
    "print(cm)"
   ]
  },
  {
   "cell_type": "markdown",
   "id": "d6936e86-5181-4d0f-961c-394fc734e803",
   "metadata": {},
   "source": [
    "### Analysing Best Model Performance"
   ]
  },
  {
   "cell_type": "code",
   "execution_count": 256,
   "id": "4b79f91b-8fa6-4ce5-b2bf-12daf66b2210",
   "metadata": {},
   "outputs": [
    {
     "name": "stdout",
     "output_type": "stream",
     "text": [
      "              precision    recall  f1-score   support\n",
      "\n",
      "           0       0.89      0.84      0.86       150\n",
      "           1       0.78      1.00      0.88        47\n",
      "           2       0.83      0.79      0.81       103\n",
      "\n",
      "    accuracy                           0.85       300\n",
      "   macro avg       0.83      0.88      0.85       300\n",
      "weighted avg       0.85      0.85      0.85       300\n",
      "\n"
     ]
    }
   ],
   "source": [
    "print(classification_report(y_test,log_pred))"
   ]
  },
  {
   "cell_type": "code",
   "execution_count": 257,
   "id": "2a8764fd-e83f-4b46-9576-05a0eb5084d8",
   "metadata": {},
   "outputs": [
    {
     "name": "stdout",
     "output_type": "stream",
     "text": [
      "[[126   7  17]\n",
      " [  0  47   0]\n",
      " [ 16   6  81]]\n"
     ]
    }
   ],
   "source": [
    "##CONFUSION MATRIX\n",
    "cm=confusion_matrix(y_test,log_pred)\n",
    "print(cm)"
   ]
  },
  {
   "cell_type": "code",
   "execution_count": 258,
   "id": "510b40a8-60b3-48eb-81b3-57a5e714fdab",
   "metadata": {
    "scrolled": true
   },
   "outputs": [
    {
     "data": {
      "image/png": "[encoded data removed]",
      "text/plain": [
       "<Figure size 500x400 with 2 Axes>"
      ]
     },
     "metadata": {},
     "output_type": "display_data"
    }
   ],
   "source": [
    " plt.figure(figsize=(5,4))\n",
    " sns.heatmap((cm),annot=True,fmt='d',cmap='plasma')\n",
    " plt.xlabel('Predicted')\n",
    " plt.ylabel('Actual')\n",
    " plt.title('Confusion Matrix')\n",
    "plt.show()\n",
    "                      \n",
    "                      \n",
    "                      \n",
    "           "
   ]
  },
  {
   "cell_type": "code",
   "execution_count": 259,
   "id": "1301f419-3f40-4e73-aecb-e881593744cf",
   "metadata": {},
   "outputs": [
    {
     "name": "stdout",
     "output_type": "stream",
     "text": [
      "0.695221787153807\n",
      "0.4096972493248837\n"
     ]
    }
   ],
   "source": [
    "from sklearn.metrics import mean_squared_error,r2_score\n",
    "mse= mean_squared_error(y_test,log_pred)\n",
    "rmse=np.sqrt(mse)\n",
    "r2= r2_score(y_test,log_pred)\n",
    "print(rmse)\n",
    "print(r2)"
   ]
  },
  {
   "cell_type": "code",
   "execution_count": 260,
   "id": "a54b041a-98fb-4f35-85cd-9383eae0e050",
   "metadata": {
    "scrolled": true
   },
   "outputs": [
    {
     "data": {
      "image/png": "[encoded data removed]",
      "text/plain": [
       "<Figure size 2500x1000 with 1 Axes>"
      ]
     },
     "metadata": {},
     "output_type": "display_data"
    }
   ],
   "source": [
    "plt.figure(figsize=(25,10))\n",
    "df.select_dtypes(include='number').boxplot()\n",
    "plt.show()"
   ]
  },
  {
   "cell_type": "code",
   "execution_count": 261,
   "id": "fba5aa9c-cf44-4a9b-9d3a-44517171c804",
   "metadata": {},
   "outputs": [],
   "source": [
    "##Converting numerical back to categorical\n",
    "predicted_labels = l.inverse_transform(log_pred)\n"
   ]
  },
  {
   "cell_type": "code",
   "execution_count": 262,
   "id": "d9a92ef9",
   "metadata": {},
   "outputs": [
    {
     "data": {
      "text/plain": [
       "['model.pkl']"
      ]
     },
     "execution_count": 262,
     "metadata": {},
     "output_type": "execute_result"
    }
   ],
   "source": [
    "import joblib\n",
    "\n",
    "\n",
    "joblib.dump(model, \"model.pkl\")"
   ]
  },
  {
   "cell_type": "code",
   "execution_count": null,
   "id": "876dee25-d926-438a-81d4-c1453625e081",
   "metadata": {},
   "outputs": [],
   "source": []
  },
  {
   "cell_type": "code",
   "execution_count": null,
   "id": "5fedd59e-49c1-4f48-91b1-497749ba276f",
   "metadata": {},
   "outputs": [],
   "source": []
  }
 ],
 "metadata": {
  "kernelspec": {
   "display_name": "Python 3 (ipykernel)",
   "language": "python",
   "name": "python3"
  },
  "language_info": {
   "codemirror_mode": {
    "name": "ipython",
    "version": 3
   },
   "file_extension": ".py",
   "mimetype": "text/x-python",
   "name": "python",
   "nbconvert_exporter": "python",
   "pygments_lexer": "ipython3",
   "version": "3.12.7"
  }
 },
 "nbformat": 4,
 "nbformat_minor": 5
}
